{
 "cells": [
  {
   "cell_type": "code",
   "execution_count": null,
   "metadata": {},
   "outputs": [],
   "source": [
    "from lib.SHIPS.get_ships import SHIPS\n",
    "mask_config = {\n",
    "    \"mask_qkv\": ['q'],\n",
    "    \"scale_factor\": 1e-5,\n",
    "    \"mask_type\": \"scale_mask\",\n",
    "}\n",
    "test = SHIPS(\"./exp_data/jailbreakbench.csv\",\n",
    "            \"./Llama-2-7b-chat-hf\",\n",
    "             mask_cfg=mask_config,\n",
    "                 device=\"cuda:0\")\n",
    "for mask_n in range(1, 2):\n",
    "    test.ships_test(\"./test-q-13-use_tem.jsonl\", top_k=5, mask_num=mask_n,max_new_tokens=64, use_tem=True)"
   ]
  }
 ],
 "metadata": {
  "language_info": {
   "name": "python"
  }
 },
 "nbformat": 4,
 "nbformat_minor": 2
}
