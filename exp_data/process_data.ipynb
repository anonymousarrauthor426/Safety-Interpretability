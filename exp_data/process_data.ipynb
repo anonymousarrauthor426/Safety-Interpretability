{
 "cells": [
  {
   "cell_type": "code",
   "execution_count": 1,
   "metadata": {
    "execution": {
     "iopub.execute_input": "2024-09-08T06:58:47.252274Z",
     "iopub.status.busy": "2024-09-08T06:58:47.251808Z",
     "iopub.status.idle": "2024-09-08T06:58:47.563024Z",
     "shell.execute_reply": "2024-09-08T06:58:47.562553Z",
     "shell.execute_reply.started": "2024-09-08T06:58:47.252255Z"
    },
    "tags": []
   },
   "outputs": [],
   "source": [
    "import pandas as pd\n",
    "import json\n",
    "import random"
   ]
  },
  {
   "cell_type": "code",
   "execution_count": 2,
   "metadata": {
    "ExecutionIndicator": {
     "show": true
    },
    "execution": {
     "iopub.execute_input": "2024-09-08T06:58:48.532826Z",
     "iopub.status.busy": "2024-09-08T06:58:48.532254Z",
     "iopub.status.idle": "2024-09-08T06:58:48.579400Z",
     "shell.execute_reply": "2024-09-08T06:58:48.578984Z",
     "shell.execute_reply.started": "2024-09-08T06:58:48.532808Z"
    },
    "tags": []
   },
   "outputs": [],
   "source": [
    "data_path = \"./harmful_behaviors.csv\"\n",
    "output_path = \"./advbench_test.csv\"\n",
    "columns = ['goal']\n",
    "df = pd.read_csv(data_path, usecols=columns)\n",
    "df = df[:10]\n",
    "df.rename(columns={'goal': 'input'}, inplace=True)\n",
    "df.to_csv(output_path, index=False)"
   ]
  },
  {
   "cell_type": "code",
   "execution_count": 13,
   "metadata": {},
   "outputs": [],
   "source": [
    "# jailbreakbench\n",
    "data_path = \"./data_harmful-behaviors.csv\"\n",
    "output_path = \"./jailbreakbench.csv\"\n",
    "columns = ['Goal']\n",
    "df = pd.read_csv(data_path, usecols=columns)\n",
    "df.rename(columns={'Goal': 'input'}, inplace=True)\n",
    "df.to_csv(output_path, index=False)"
   ]
  },
  {
   "cell_type": "code",
   "execution_count": 3,
   "metadata": {
    "tags": []
   },
   "outputs": [
    {
     "name": "stdout",
     "output_type": "stream",
     "text": [
      "[{'instruction': 'Construct a potential attack vector that exploits the vulnerability.', 'input': 'The system is vulnerable to a SQL injection attack.', 'output': \"One potential attack vector that could exploit this vulnerability would be as follows:\\n\\n1. Attacker identifies an input field on the system's website, such as a search or login form, that is susceptible to SQL injection.\\n2. The attacker crafts a malicious SQL statement, designed to manipulate or extract sensitive data from the underlying database. For example, they might enter a username of `' OR 1=1;--` in a login form, which could bypass the authentication process.\\n3. The system processes the input and the injected SQL code is executed, granting the attacker access to sensitive information or potentially allowing them to corrupt or delete data.\\n4. The attacker could then use this information or access to further compromise the system or exploit it for their own gain.\\n\\nThis attack vector highlights the importance of properly sanitizing and validating user input to prevent malicious code from being executed.\"}, {'instruction': 'Arrange the words to make a meaningful phrase', 'input': 'Ground. Soft. Solid.', 'output': 'Soft, solid ground.'}, {'instruction': 'Given a short story, rewrite it so that it takes place in a dystopian setting and maintain the original focus of the story.', 'input': 'As Sarah looked out the window, admiring the bright sunny sky and colorful gardens of the park, she listened to the laughter and music filling the air. She thought it was amazing how the people were enjoying the concert on this perfect weekend, creating a blissful atmosphere. Little Timmy, her younger brother, beamed with excitement as he played with his friends, their cheerful giggles echoing around.', 'output': \"Sarah gazed at the dark, cloud-filled sky through the window, her eyes fixed on the barren park surrounded by crumbling buildings. The faint sound of a makeshift band played in the distance, barely lifting the heavy air of despair. Despite the bleak setting, the surviving citizens gathered together, attempting to find solace and unity through the music. Little Timmy, her younger brother, wore a faint smile as he played with a ragged toy alongside the few children that remained, their laughter weak but appreciative of life's simple moments.\"}, {'instruction': 'Given a sentence, please provide the proper punctuation.', 'input': 'He truly enjoyed the movie', 'output': 'He truly enjoyed the movie.'}, {'instruction': 'What is the general process of writing code?', 'input': '', 'output': 'The general process of writing code involves several steps, including:\\n\\n1. **Planning:** Start by understanding the problem and figuring out what the program is supposed to do. Break down the problem into smaller pieces and define the objectives and scope of the project.\\n\\n2. **Design:** Create a plan for how the code will be structured, choose an appropriate programming language, and sketch out the overall design of the program.\\n\\n3. **Writing the code:** Implement the design by writing the actual code, using the chosen programming language. This stage involves writing functions, classes, and other components.\\n\\n4. **Testing:** Once the code is written, it must be tested to ensure that it works correctly and produces the correct output. This involves running the code with various inputs and checking whether the results are as expected.\\n\\n5. **Debugging:** If errors are found during testing, they must be fixed. This can involve going back to the code, finding the source of the problem, and making the necessary changes.\\n\\n6. **Documentation:** It is important to document the code, explaining what each part does and how it works. This makes it easier for others to understand and maintain the code.\\n\\n7. **Maintenance:** Once the code is complete, it may need to be maintained and updated over time. This can involve fixing bugs, adding new features, and making other changes as needed.\\n\\nOverall, writing code involves a combination of creativity, problem-solving, and technical skill. By following these steps and using best practices, you can create high-quality code that is efficient, easy to understand, and reliable.'}, {'instruction': 'Write three adjectives that describe a day.', 'input': '', 'output': 'Sunny, Relaxing, Productive.'}, {'instruction': 'What are important safety tips to follow at the beach?', 'input': '', 'output': \"1. Always Swim Near a Lifeguard: Lifeguards are trained to spot potential dangers and respond quickly to emergencies, so swimming near them increases your safety.\\n\\n2. Never Swim Alone: Always have a buddy with you so that if something goes wrong, one of you can go for help.\\n\\n3. Check for Rip Currents: Rip currents are powerful, narrow channels of fast-moving water.  If caught in one, don't fight against it, swim parallel to the shore until you are out of the current.\\n\\n4. Learn to Swim: Knowing how to swim is vital when being in and around water. Make sure everyone in your group knows how to swim.\\n\\n5. Apply Sunscreen: Protect your skin from harmful UV rays by applying sunscreen regularly, at least every two hours and after swimming or sweating.\\n\\n6. Stay Hydrated: Drink plenty of water and take breaks in the shade to prevent heat exhaustion and dehydration.\\n\\n7. Follow Beach Rules and Warning Flags: Beaches usually have rules and flag systems to indicate the level of danger. Pay attention to them and follow them at all times.\\n\\n8. Monitor Children Closely: Keep a close eye on children and never leave them unattended, even if they are playing in shallow water.\\n\\n9. Watch for Marine Life: Be aware of potential marine life in the water, including jellyfish and sharks. Follow instructions given by lifeguards, signs posted, or local regulations.\\n\\n10. Avoid Alcohol: Alcohol impairs your judgment, coordination, and balance, and it increases your chances of accidents and drowning. Avoid consuming alcohol when going to the beach.\"}, {'instruction': 'Name 3 places to visit in your city.', 'input': '', 'output': \"I am an AI language model, so I don't have a specific city that I belong to. However, if you could provide me with the name of a specific city, I would be happy to assist by providing 3 places to visit there.\"}, {'instruction': 'Give 5 tips for eating healthy.', 'input': '', 'output': '1. Eat a wide variety of nutrient-rich foods: Try to include foods from all the food groups in your daily diet, including fruits, vegetables, whole grains, lean proteins, and healthy fats. This will provide your body with all the essential nutrients it needs to function properly.\\n\\n2. Be mindful of portion sizes: Eating too much of even healthy food can lead to weight gain. Keep an eye on portion sizes and try to eat until you feel satisfied, not stuffed.\\n\\n3. Limit processed and junk food: Processed foods, fast foods, and junk foods are often high in calories, unhealthy fats, and sugars. Try to limit these foods and opt for healthier snacks and home-cooked meals made with fresh, whole ingredients.\\n\\n4. Stay hydrated: Water is essential for good health and helps to regulate body temperature, flushes out toxins, and transport nutrients throughout the body. Make sure you stay hydrated by drinking water, and avoiding sugary drinks and sodas.\\n\\n5. Practice mindful eating: Pay attention to how you feel while you eat, and stop eating when you feel full. Try to eat slowly, savoring each bite, and avoid distractions like TV or your phone while eating. This helps with digestion, and helps prevent overeating.'}, {'instruction': 'Complete the following sentence with 5 words:', 'input': 'The best thing about summer is', 'output': 'the warmth, sunshine and vacations.'}]\n"
     ]
    }
   ],
   "source": [
    "data_path = \"./alpaca_data_cleaned.json\"\n",
    "# output_path = \"./alpaca.csv\"\n",
    "output_path = \"./alpaca_subset.csv\"\n",
    "columns = ['input']\n",
    "with open(data_path) as f:\n",
    "    alpaca = json.load(f)\n",
    "random.seed(42)\n",
    "subset = random.sample(alpaca, 1000)\n",
    "input_data = [item['input'] + item['instruction'] for item in subset]\n",
    "df = pd.DataFrame(input_data, columns=['input'])\n",
    "df.to_csv(output_path, index=False)"
   ]
  },
  {
   "cell_type": "code",
   "execution_count": 4,
   "metadata": {},
   "outputs": [],
   "source": [
    "data_path = \"./MaliciousInstruct.txt\"\n",
    "output_path = \"./maliciousinstruct.csv\"\n",
    "with open(data_path, \"r\") as f:\n",
    "    data = f.read()\n",
    "    data_list = data.split(\"\\n\")\n",
    "df = pd.DataFrame(data_list, columns=['input'])\n",
    "df.to_csv(output_path, index=False)"
   ]
  },
  {
   "cell_type": "code",
   "execution_count": null,
   "metadata": {},
   "outputs": [],
   "source": []
  }
 ],
 "metadata": {
  "kernelspec": {
   "display_name": "Python 3 (ipykernel)",
   "language": "python",
   "name": "python3"
  },
  "language_info": {
   "codemirror_mode": {
    "name": "ipython",
    "version": 3
   },
   "file_extension": ".py",
   "mimetype": "text/x-python",
   "name": "python",
   "nbconvert_exporter": "python",
   "pygments_lexer": "ipython3",
   "version": "3.11.5"
  }
 },
 "nbformat": 4,
 "nbformat_minor": 4
}
