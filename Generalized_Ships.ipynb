{
 "cells": [
  {
   "cell_type": "code",
   "execution_count": null,
   "metadata": {},
   "outputs": [],
   "source": [
    "from lib.Sahara.attribution import safety_head_attribution\n",
    "import os\n",
    "default_search_cfg = {\n",
    "    \"search_step\": 1,\n",
    "    \"mask_qkv\": ['q'],\n",
    "    \"scale_factor\": 1e-5,\n",
    "    \"mask_type\": \"scale_mask\"\n",
    "}\n",
    "\n",
    "\n",
    "model_path = \"./Llama-2-7b-Chat\"\n",
    "data_path = \"./exp_data/maliciousinstruct.csv\"\n",
    "storage_path = \"./exp_res/sahara/Llama-2-7b-Chat/\"\n",
    "if not os.path.exists(storage_path):\n",
    "    os.makedirs(storage_path)\n",
    "\n",
    "safety_head_attribution(\n",
    "        model_name=model_path,\n",
    "        data_path=data_path,\n",
    "        search_cfg=default_search_cfg,\n",
    "        storage_path=storage_path,\n",
    "        device='cuda:1'\n",
    ")"
   ]
  }
 ],
 "metadata": {
  "language_info": {
   "name": "python"
  }
 },
 "nbformat": 4,
 "nbformat_minor": 2
}
